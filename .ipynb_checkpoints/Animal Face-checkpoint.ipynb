{
 "cells": [
  {
   "cell_type": "code",
   "execution_count": null,
   "id": "233951a5-35af-4d09-8ddf-5f0c939130bc",
   "metadata": {},
   "outputs": [],
   "source": [
    "%matplotlib inline\n",
    " \n",
    "import matplotlib.pyplot as plt\n",
    "import numpy as np\n",
    "import os\n",
    "import pprint\n",
    "pp = pprint.PrettyPrinter(indent=4)"
   ]
  },
  {
   "cell_type": "code",
   "execution_count": null,
   "id": "24c5c1e3-7736-4948-8c40-0c6403a4af27",
   "metadata": {},
   "outputs": [],
   "source": [
    "import joblib\n",
    "from skimage.io import imread\n",
    "from skimage.transform import resize\n",
    " \n",
    "def resize_all(src, pklname, include, width=150, height=None):\n",
    "    \"\"\"\n",
    "    load images from path, resize them and write them as arrays to a dictionary, \n",
    "    together with labels and metadata. The dictionary is written to a pickle file \n",
    "    named '{pklname}_{width}x{height}px.pkl'.\n",
    "     \n",
    "    Parameter\n",
    "    ---------\n",
    "    src: str\n",
    "        path to data\n",
    "    pklname: str\n",
    "        path to output file\n",
    "    width: int\n",
    "        target width of the image in pixels\n",
    "    include: set[str]\n",
    "        set containing str\n",
    "    \"\"\"\n",
    "     \n",
    "    height = height if height is not None else width\n",
    "     \n",
    "    data = dict()\n",
    "    data['description'] = 'resized ({0}x{1})animal images in rgb'.format(int(width), int(height))\n",
    "    data['label'] = []\n",
    "    data['filename'] = []\n",
    "    data['data'] = []   \n",
    "     \n",
    "    pklname = f\"{pklname}_{width}x{height}px.pkl\"\n",
    " \n",
    "    # read all images in PATH, resize and write to DESTINATION_PATH\n",
    "    for subdir in os.listdir(src):\n",
    "        if subdir in include:\n",
    "            print(subdir)\n",
    "            current_path = os.path.join(src, subdir)\n",
    " \n",
    "            for file in os.listdir(current_path):\n",
    "                if file[-3:] in {'jpg', 'png'}:\n",
    "                    im = imread(os.path.join(current_path, file))\n",
    "                    im = resize(im, (width, height)) #[:,:,::-1]\n",
    "                    data['label'].append(subdir[:-4])\n",
    "                    data['filename'].append(file)\n",
    "                    data['data'].append(im)\n",
    " \n",
    "        joblib.dump(data, pklname)"
   ]
  },
  {
   "cell_type": "code",
   "execution_count": null,
   "id": "f9ab9c21-1076-4c7d-be84-a7ca053b9b03",
   "metadata": {},
   "outputs": [],
   "source": [
    "import os\n",
    "\n",
    "# Use the correct environment variable for Windows\n",
    "data_path = r\"C:\\Users\\User\\Desktop\\animal face project\\AnimalFace\\Image\"\n",
    "\n",
    "# Check if the path exists before listing\n",
    "if os.path.exists(data_path):\n",
    "    print(os.listdir(data_path))\n",
    "else:\n",
    "    print(f\"Error: The path '{data_path}' does not exist.\")"
   ]
  },
  {
   "cell_type": "code",
   "execution_count": null,
   "id": "4a31a439-d7aa-4da1-b86e-0aaae2031918",
   "metadata": {},
   "outputs": [],
   "source": [
    "base_name = 'animal_faces'\n",
    "width = 80\n",
    " \n",
    "include = {'ChickenHead', 'BearHead', 'ElephantHead', \n",
    "           'EagleHead', 'DeerHead', 'MonkeyHead', 'PandaHead'}\n",
    " \n",
    "resize_all(src=data_path, pklname=base_name, width=width, include=include)"
   ]
  },
  {
   "cell_type": "code",
   "execution_count": null,
   "id": "6f0d4bea-02eb-4943-8f07-03f67115b076",
   "metadata": {},
   "outputs": [],
   "source": [
    "from collections import Counter\n",
    " \n",
    "data = joblib.load(f'{base_name}_{width}x{width}px.pkl')\n",
    " \n",
    "print('number of samples: ', len(data['data']))\n",
    "print('keys: ', list(data.keys()))\n",
    "print('description: ', data['description'])\n",
    "print('image shape: ', data['data'][0].shape)\n",
    "print('labels:', np.unique(data['label']))\n",
    " \n",
    "Counter(data['label'])"
   ]
  },
  {
   "cell_type": "code",
   "execution_count": null,
   "id": "84a2164d-98eb-4cb2-b3ef-d84ea1874be5",
   "metadata": {},
   "outputs": [],
   "source": [
    "# use np.unique to get all unique values in the list of labels\n",
    "labels = np.unique(data['label'])\n",
    " \n",
    "# set up the matplotlib figure and axes, based on the number of labels\n",
    "fig, axes = plt.subplots(1, len(labels))\n",
    "fig.set_size_inches(15,4)\n",
    "fig.tight_layout()\n",
    " \n",
    "# make a plot for every label (equipment) type. The index method returns the \n",
    "# index of the first item corresponding to its search string, label in this case\n",
    "for ax, label in zip(axes, labels):\n",
    "    idx = data['label'].index(label)\n",
    "     \n",
    "    ax.imshow(data['data'][idx])\n",
    "    ax.axis('off')\n",
    "    ax.set_title(label)"
   ]
  },
  {
   "cell_type": "code",
   "execution_count": null,
   "id": "1aba9e0a-78ec-4454-9118-1cfe68380c8c",
   "metadata": {},
   "outputs": [],
   "source": [
    "X = np.array(data['data'])\n",
    "y = np.array(data['label'])"
   ]
  },
  {
   "cell_type": "code",
   "execution_count": null,
   "id": "f0f3319f-bd66-467b-bc43-2f32b8cd2303",
   "metadata": {},
   "outputs": [],
   "source": [
    "from sklearn.model_selection import train_test_split\n",
    " \n",
    "X_train, X_test, y_train, y_test = train_test_split(\n",
    "    X, \n",
    "    y, \n",
    "    test_size=0.2, \n",
    "    shuffle=True,\n",
    "    random_state=42,\n",
    ")"
   ]
  },
  {
   "cell_type": "code",
   "execution_count": null,
   "id": "989fcca9-51bd-47fc-9918-544b361cdde6",
   "metadata": {},
   "outputs": [],
   "source": [
    "def plot_bar(y, loc='left', relative=True):\n",
    "    width = 0.35\n",
    "    if loc == 'left':\n",
    "        n = -0.5\n",
    "    elif loc == 'right':\n",
    "        n = 0.5\n",
    "     \n",
    "    # calculate counts per type and sort, to ensure their order\n",
    "    unique, counts = np.unique(y, return_counts=True)\n",
    "    sorted_index = np.argsort(unique)\n",
    "    unique = unique[sorted_index]\n",
    "     \n",
    "    if relative:\n",
    "        # plot as a percentage\n",
    "        counts = 100*counts[sorted_index]/len(y)\n",
    "        ylabel_text = '% count'\n",
    "    else:\n",
    "        # plot counts\n",
    "        counts = counts[sorted_index]\n",
    "        ylabel_text = 'count'\n",
    "         \n",
    "    xtemp = np.arange(len(unique))\n",
    "     \n",
    "    plt.bar(xtemp + n*width, counts, align='center', alpha=.7, width=width)\n",
    "    plt.xticks(xtemp, unique, rotation=45)\n",
    "    plt.xlabel('equipment type')\n",
    "    plt.ylabel(ylabel_text)\n",
    " \n",
    "plt.suptitle('relative amount of photos per type')\n",
    "plot_bar(y_train, loc='left')\n",
    "plot_bar(y_test, loc='right')\n",
    "plt.legend([\n",
    "    'train ({0} photos)'.format(len(y_train)), \n",
    "    'test ({0} photos)'.format(len(y_test))\n",
    "]);"
   ]
  },
  {
   "cell_type": "code",
   "execution_count": null,
   "id": "5410a729-d93b-41c8-8285-67de6b7e50ac",
   "metadata": {},
   "outputs": [],
   "source": [
    "from skimage.feature import hog\n",
    "from skimage.io import imread\n",
    "from skimage.transform import rescale\n",
    " \n",
    "dog = imread(r'C:\\Users\\User\\Desktop\\animal face project\\German_Shepherd_-_DSC_0346_(10096362833).jpg', as_gray=True)\n",
    "# https://en.wikipedia.org/wiki/German_Shepherd#/media/File:Kim_at_14_weeks.jpg\n",
    " \n",
    "# scale down the image to one third\n",
    "dog = rescale(dog, 1/3, mode='reflect')\n",
    "# calculate the hog and return a visual representation.\n",
    "dog_hog, dog_hog_img = hog(\n",
    "    dog, pixels_per_cell=(14,14), \n",
    "    cells_per_block=(2, 2), \n",
    "    orientations=9, \n",
    "    visualize=True, \n",
    "    block_norm='L2-Hys')\n",
    " \n",
    "fig, ax = plt.subplots(1,2)\n",
    "fig.set_size_inches(8,6)\n",
    "# remove ticks and their labels\n",
    "[a.tick_params(bottom=False, left=False, labelbottom=False, labelleft=False) \n",
    "    for a in ax]\n",
    " \n",
    "ax[0].imshow(dog, cmap='gray')\n",
    "ax[0].set_title('dog')\n",
    "ax[1].imshow(dog_hog_img, cmap='gray')\n",
    "ax[1].set_title('hog')\n",
    "plt.show()"
   ]
  },
  {
   "cell_type": "code",
   "execution_count": null,
   "id": "552107be-cdac-4be3-9fa5-d1fc0721b45f",
   "metadata": {},
   "outputs": [],
   "source": [
    "print('number of pixels: ', dog.shape[0] * dog.shape[1])\n",
    "print('number of hog features: ', dog_hog.shape[0])"
   ]
  },
  {
   "cell_type": "code",
   "execution_count": null,
   "id": "884d468b-e187-4bbf-a39e-4591392936f8",
   "metadata": {},
   "outputs": [],
   "source": [
    "from sklearn.base import BaseEstimator, TransformerMixin\n",
    " \n",
    "class RGB2GrayTransformer(BaseEstimator, TransformerMixin):\n",
    "    \"\"\"\n",
    "    Convert an array of RGB images to grayscale\n",
    "    \"\"\"\n",
    " \n",
    "    def __init__(self):\n",
    "        pass\n",
    " \n",
    "    def fit(self, X, y=None):\n",
    "        \"\"\"returns itself\"\"\"\n",
    "        return self\n",
    " \n",
    "    def transform(self, X, y=None):\n",
    "        \"\"\"perform the transformation and return an array\"\"\"\n",
    "        return np.array([skimage.color.rgb2gray(img) for img in X])\n",
    "     \n",
    " \n",
    "class HogTransformer(BaseEstimator, TransformerMixin):\n",
    "    \"\"\"\n",
    "    Expects an array of 2d arrays (1 channel images)\n",
    "    Calculates hog features for each img\n",
    "    \"\"\"\n",
    " \n",
    "    def __init__(self, y=None, orientations=9,\n",
    "                 pixels_per_cell=(8, 8),\n",
    "                 cells_per_block=(3, 3), block_norm='L2-Hys'):\n",
    "        self.y = y\n",
    "        self.orientations = orientations\n",
    "        self.pixels_per_cell = pixels_per_cell\n",
    "        self.cells_per_block = cells_per_block\n",
    "        self.block_norm = block_norm\n",
    " \n",
    "    def fit(self, X, y=None):\n",
    "        return self\n",
    " \n",
    "    def transform(self, X, y=None):\n",
    " \n",
    "        def local_hog(X):\n",
    "            return hog(X,\n",
    "                       orientations=self.orientations,\n",
    "                       pixels_per_cell=self.pixels_per_cell,\n",
    "                       cells_per_block=self.cells_per_block,\n",
    "                       block_norm=self.block_norm)\n",
    " \n",
    "        try: # parallel\n",
    "            return np.array([local_hog(img) for img in X])\n",
    "        except:\n",
    "            return np.array([local_hog(img) for img in X])"
   ]
  },
  {
   "cell_type": "code",
   "execution_count": null,
   "id": "aadb48d2-453d-48ce-a8a0-a6c5efcb3a42",
   "metadata": {},
   "outputs": [],
   "source": [
    "from sklearn.linear_model import SGDClassifier\n",
    "from sklearn.model_selection import cross_val_predict\n",
    "from sklearn.preprocessing import StandardScaler, Normalizer\n",
    "import skimage\n",
    " \n",
    "# create an instance of each transformer\n",
    "grayify = RGB2GrayTransformer()\n",
    "hogify = HogTransformer(\n",
    "    pixels_per_cell=(14, 14), \n",
    "    cells_per_block=(2,2), \n",
    "    orientations=9, \n",
    "    block_norm='L2-Hys'\n",
    ")\n",
    "scalify = StandardScaler()\n",
    " \n",
    "# call fit_transform on each transform converting X_train step by step\n",
    "X_train_gray = grayify.fit_transform(X_train)\n",
    "X_train_hog = hogify.fit_transform(X_train_gray)\n",
    "X_train_prepared = scalify.fit_transform(X_train_hog)\n",
    " \n",
    "print(X_train_prepared.shape)"
   ]
  },
  {
   "cell_type": "code",
   "execution_count": null,
   "id": "22ae7334-2d92-49f0-ab97-25c517e51061",
   "metadata": {},
   "outputs": [],
   "source": [
    "sgd_clf = SGDClassifier(random_state=42, max_iter=1000, tol=1e-3)\n",
    "sgd_clf.fit(X_train_prepared, y_train)"
   ]
  },
  {
   "cell_type": "code",
   "execution_count": null,
   "id": "45589a79-4aa5-4a28-bc79-1dcbc86182cd",
   "metadata": {},
   "outputs": [],
   "source": [
    "X_test_gray = grayify.transform(X_test)\n",
    "X_test_hog = hogify.transform(X_test_gray)\n",
    "X_test_prepared = scalify.transform(X_test_hog)"
   ]
  },
  {
   "cell_type": "code",
   "execution_count": null,
   "id": "af4fa6bd-5690-4c98-a392-bbebeb601afc",
   "metadata": {},
   "outputs": [],
   "source": [
    "y_pred = sgd_clf.predict(X_test_prepared)\n",
    "print(np.array(y_pred == y_test)[:25])\n",
    "print('')\n",
    "print('Percentage correct: ', 100*np.sum(y_pred == y_test)/len(y_test))"
   ]
  },
  {
   "cell_type": "code",
   "execution_count": null,
   "id": "08dbf589-396c-4d10-a146-17bfc5f4d14a",
   "metadata": {},
   "outputs": [],
   "source": [
    "import pandas as pd"
   ]
  },
  {
   "cell_type": "code",
   "execution_count": null,
   "id": "2e082589-f9b1-42d9-aea9-3b165e354a0a",
   "metadata": {},
   "outputs": [],
   "source": [
    "labels = ['yes', 'yes', 'yes', 'yes', 'yes', 'yes', 'no',  'no', 'no', 'no']\n",
    "predictions = ['yes', 'yes', 'yes', 'yes', 'no',  'no',  'yes', 'no', 'no', 'no']\n",
    " \n",
    "# put the data in a dataframe for pretty printing\n",
    "df = pd.DataFrame(\n",
    "    np.c_[labels, predictions], \n",
    "    columns=['true_label', 'prediction']\n",
    ")\n",
    "df"
   ]
  },
  {
   "cell_type": "code",
   "execution_count": null,
   "id": "07954c33-ef96-4c0e-867c-da6ab48d6da4",
   "metadata": {},
   "outputs": [],
   "source": [
    "from sklearn.metrics import confusion_matrix\n",
    " \n",
    "label_names = ['yes', 'no']\n",
    "cmx = confusion_matrix(labels, predictions, labels=label_names)\n",
    "df = pd.DataFrame(cmx, columns=label_names, index=label_names)\n",
    "df.columns.name = 'prediction'\n",
    "df.index.name = 'label'\n",
    "df"
   ]
  },
  {
   "cell_type": "code",
   "execution_count": null,
   "id": "b4681634-2694-4c5e-beeb-cedbf78bf297",
   "metadata": {},
   "outputs": [],
   "source": [
    "plt.imshow(cmx)\n",
    "plt.xticks([])\n",
    "plt.yticks([])\n",
    "plt.colorbar();"
   ]
  },
  {
   "cell_type": "code",
   "execution_count": null,
   "id": "8c967d2f-7dac-414f-a598-0a7365936790",
   "metadata": {},
   "outputs": [],
   "source": [
    "cmx = confusion_matrix(y_test, y_pred)\n",
    "cmx"
   ]
  },
  {
   "cell_type": "code",
   "execution_count": null,
   "id": "6f0f259c-1aee-496f-b388-6d35dacbf99d",
   "metadata": {},
   "outputs": [],
   "source": [
    "from mpl_toolkits.axes_grid1 import make_axes_locatable\n",
    " \n",
    "def plot_confusion_matrix(cmx, vmax1=None, vmax2=None, vmax3=None):\n",
    "    cmx_norm = 100*cmx / cmx.sum(axis=1, keepdims=True)\n",
    "    cmx_zero_diag = cmx_norm.copy()\n",
    " \n",
    "    np.fill_diagonal(cmx_zero_diag, 0)\n",
    " \n",
    "    fig, ax = plt.subplots(ncols=3)\n",
    "    fig.set_size_inches(12, 3)\n",
    "    [a.set_xticks(range(len(cmx)+1)) for a in ax]\n",
    "    [a.set_yticks(range(len(cmx)+1)) for a in ax]\n",
    "         \n",
    "    im1 = ax[0].imshow(cmx, vmax=vmax1)\n",
    "    ax[0].set_title('as is')\n",
    "    im2 = ax[1].imshow(cmx_norm, vmax=vmax2)\n",
    "    ax[1].set_title('%')\n",
    "    im3 = ax[2].imshow(cmx_zero_diag, vmax=vmax3)\n",
    "    ax[2].set_title('% and 0 diagonal')\n",
    " \n",
    "    dividers = [make_axes_locatable(a) for a in ax]\n",
    "    cax1, cax2, cax3 = [divider.append_axes(\"right\", size=\"5%\", pad=0.1) \n",
    "                        for divider in dividers]\n",
    " \n",
    "    fig.colorbar(im1, cax=cax1)\n",
    "    fig.colorbar(im2, cax=cax2)\n",
    "    fig.colorbar(im3, cax=cax3)\n",
    "    fig.tight_layout()\n",
    "     \n",
    "plot_confusion_matrix(cmx)\n",
    " \n",
    "# the types appear in this order\n",
    "print('\\n', sorted(np.unique(y_test)))"
   ]
  },
  {
   "cell_type": "code",
   "execution_count": null,
   "id": "51d83773-6424-4803-a5c3-16e6509f9333",
   "metadata": {},
   "outputs": [],
   "source": [
    "from sklearn.pipeline import Pipeline\n",
    "from sklearn import svm\n",
    " \n",
    "HOG_pipeline = Pipeline([\n",
    "    ('grayify', RGB2GrayTransformer()),\n",
    "    ('hogify', HogTransformer(\n",
    "        pixels_per_cell=(14, 14), \n",
    "        cells_per_block=(2, 2), \n",
    "        orientations=9, \n",
    "        block_norm='L2-Hys')\n",
    "    ),\n",
    "    ('scalify', StandardScaler()),\n",
    "    ('classify', SGDClassifier(random_state=42, max_iter=1000, tol=1e-3))\n",
    "])\n",
    " \n",
    "clf = HOG_pipeline.fit(X_train, y_train)\n",
    "print('Percentage correct: ', 100*np.sum(clf.predict(X_test) == y_test)/len(y_test))\n"
   ]
  },
  {
   "cell_type": "code",
   "execution_count": null,
   "id": "6e60c9c0-d91b-4d90-91e9-59a2b8d3a17d",
   "metadata": {},
   "outputs": [],
   "source": [
    "from sklearn.model_selection import GridSearchCV\n",
    " \n",
    "param_grid = [\n",
    "    {\n",
    "        'hogify__orientations': [8, 9],\n",
    "        'hogify__cells_per_block': [(2, 2), (3, 3)],\n",
    "        'hogify__pixels_per_cell': [(8, 8), (10, 10), (12, 12)]\n",
    "    },\n",
    "    {\n",
    "        'hogify__orientations': [8],\n",
    "         'hogify__cells_per_block': [(3, 3)],\n",
    "         'hogify__pixels_per_cell': [(8, 8)],\n",
    "         'classify': [\n",
    "             SGDClassifier(random_state=42, max_iter=1000, tol=1e-3),\n",
    "             svm.SVC(kernel='linear')\n",
    "         ]\n",
    "    }\n",
    "]"
   ]
  },
  {
   "cell_type": "code",
   "execution_count": null,
   "id": "06289296-f35e-451d-a180-65e38f3b2bde",
   "metadata": {},
   "outputs": [],
   "source": [
    "grid_search = GridSearchCV(HOG_pipeline, \n",
    "                           param_grid, \n",
    "                           cv=3,\n",
    "                           n_jobs=-1,\n",
    "                           scoring='accuracy',\n",
    "                           verbose=1,\n",
    "                           return_train_score=True)\n",
    " \n",
    "grid_res = grid_search.fit(X_train, y_train)"
   ]
  },
  {
   "cell_type": "code",
   "execution_count": null,
   "id": "8a8efa02-ae2e-4771-a8d5-20cf62fa5c66",
   "metadata": {},
   "outputs": [],
   "source": [
    "# save the model to disk\n",
    "joblib.dump(grid_res, 'hog_sgd_model.pkl');"
   ]
  },
  {
   "cell_type": "code",
   "execution_count": null,
   "id": "34af29d4-fa96-4a3a-bf7a-2091ab7b6828",
   "metadata": {},
   "outputs": [],
   "source": [
    "# description of the best performing object, a pipeline in our case.\n",
    "grid_res.best_estimator_"
   ]
  },
  {
   "cell_type": "code",
   "execution_count": null,
   "id": "e8ed180b-43bb-4a85-a91f-10c1ff4950d8",
   "metadata": {},
   "outputs": [],
   "source": [
    "# the highscore during the search\n",
    "grid_res.best_score_"
   ]
  },
  {
   "cell_type": "code",
   "execution_count": null,
   "id": "01276259-5aa6-46ed-8e9c-53c56f94bce2",
   "metadata": {},
   "outputs": [],
   "source": [
    "pp.pprint(grid_res.best_params_)"
   ]
  },
  {
   "cell_type": "code",
   "execution_count": null,
   "id": "b5e6c25f-e4d3-45aa-968a-370f0af8570d",
   "metadata": {},
   "outputs": [],
   "source": [
    "best_pred = grid_res.predict(X_test)\n",
    "print('Percentage correct: ', 100*np.sum(best_pred == y_test)/len(y_test))"
   ]
  },
  {
   "cell_type": "code",
   "execution_count": null,
   "id": "1cfb2034-7979-4ace-8576-3e3fc69509d4",
   "metadata": {},
   "outputs": [],
   "source": [
    "cmx_svm = confusion_matrix(y_test, best_pred)"
   ]
  },
  {
   "cell_type": "code",
   "execution_count": null,
   "id": "9c880dc8-3043-4e09-bed7-547232c04ae0",
   "metadata": {},
   "outputs": [],
   "source": [
    "plot_confusion_matrix(cmx, vmax1=225, vmax2=100, vmax3=12)"
   ]
  },
  {
   "cell_type": "code",
   "execution_count": null,
   "id": "b23e4124-d1c6-4d06-91c1-cc691bf9ab68",
   "metadata": {},
   "outputs": [],
   "source": [
    "plot_confusion_matrix(cmx_svm, vmax1=225, vmax2=100, vmax3=12)"
   ]
  },
  {
   "cell_type": "code",
   "execution_count": null,
   "id": "421a8adc-2e5e-4f44-be78-b48f3ddbc14f",
   "metadata": {},
   "outputs": [],
   "source": []
  }
 ],
 "metadata": {
  "kernelspec": {
   "display_name": "Python 3 (ipykernel)",
   "language": "python",
   "name": "python3"
  },
  "language_info": {
   "codemirror_mode": {
    "name": "ipython",
    "version": 3
   },
   "file_extension": ".py",
   "mimetype": "text/x-python",
   "name": "python",
   "nbconvert_exporter": "python",
   "pygments_lexer": "ipython3",
   "version": "3.10.9"
  }
 },
 "nbformat": 4,
 "nbformat_minor": 5
}
